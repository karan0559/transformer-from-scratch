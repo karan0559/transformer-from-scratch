{
 "cells": [
  {
   "metadata": {},
   "cell_type": "code",
   "source": "!pip install torch torchvision torchaudio\n",
   "id": "59cfb5214bf6d690",
   "outputs": [],
   "execution_count": null
  },
  {
   "metadata": {},
   "cell_type": "code",
   "source": [
    "import pip\n",
    "try:\n",
    "  __import__(\"lightning\")\n",
    "except ImportError:\n",
    "  pip.main(['install', \"lightning\"])\n",
    "\n",
    "import torch\n",
    "import torch.nn as nn\n",
    "import torch.nn.functional as F\n",
    "from torch.optim import Adam\n",
    "from torch.utils.data import TensorDataset, DataLoader\n",
    "\n",
    "import lightning as L"
   ],
   "id": "initial_id",
   "outputs": [],
   "execution_count": null
  },
  {
   "metadata": {
    "ExecuteTime": {
     "end_time": "2025-06-25T18:03:59.716759Z",
     "start_time": "2025-06-25T18:03:59.707801Z"
    }
   },
   "cell_type": "code",
   "source": [
    "token_to_id = {\n",
    "    'i': 0,\n",
    "    'live': 1,\n",
    "    'in': 2,\n",
    "    'delhi': 3,\n",
    "    'nice': 4,\n",
    "    'study': 5,\n",
    "    'NSUT': 6,\n",
    "    'cool': 7,\n",
    "    'like': 8,\n",
    "    'to': 9,\n",
    "    'play': 10,\n",
    "    'football': 11,\n",
    "    'awesome': 12,\n",
    "    'want': 13,\n",
    "    'visit': 14,\n",
    "    'shimla': 15,\n",
    "    'beautiful': 16,\n",
    "    '<EOS>': 17\n",
    "}\n",
    "id_to_token = dict(map(reversed, token_to_id.items()))\n",
    "\n",
    "inputs = torch.tensor([\n",
    "    [0, 1, 2, 3, 17, 4, 17],         # i live in delhi <EOS> nice <EOS>\n",
    "    [0, 5, 2, 6, 17, 7, 17],         # i study in NSUT <EOS> cool <EOS>\n",
    "    [0, 8, 9, 10, 11, 17, 12],       # i like to play football <EOS> awesome\n",
    "    [0, 13, 9, 14, 15, 17, 16]       # i want to visit shimla <EOS> beautiful\n",
    "])\n",
    "\n",
    "labels = torch.tensor([\n",
    "    [1, 2, 3, 17, 4, 17, 17],\n",
    "    [5, 2, 6, 17, 7, 17, 17],\n",
    "    [8, 9, 10, 11, 17, 12, 17],\n",
    "    [13, 9, 14, 15, 17, 16, 17]\n",
    "])\n",
    "\n",
    "dataset = TensorDataset(inputs, labels)\n",
    "dataloader = DataLoader(dataset)\n",
    "\n"
   ],
   "id": "1b70c2c77c0c7b16",
   "outputs": [],
   "execution_count": 5
  },
  {
   "metadata": {
    "ExecuteTime": {
     "end_time": "2025-06-25T18:04:15.793489Z",
     "start_time": "2025-06-25T18:04:15.783019Z"
    }
   },
   "cell_type": "code",
   "source": [
    "class PositionEncoding(nn.Module):\n",
    "    def __init__(self, d_model=2, max_len=10):\n",
    "        super().__init__()\n",
    "        pe = torch.zeros(max_len, d_model)\n",
    "        position = torch.arange(0, max_len, dtype=torch.float).unsqueeze(1)\n",
    "        div_term = 1 / (10000 ** (torch.arange(0, d_model, 2).float() / d_model))\n",
    "        pe[:, 0::2] = torch.sin(position * div_term)\n",
    "        pe[:, 1::2] = torch.cos(position * div_term)\n",
    "        self.register_buffer('pe', pe)\n",
    "\n",
    "    def forward(self, word_embeddings):\n",
    "        return word_embeddings + self.pe[:word_embeddings.size(0), :]\n"
   ],
   "id": "6f23f553d0738922",
   "outputs": [],
   "execution_count": 6
  },
  {
   "metadata": {
    "ExecuteTime": {
     "end_time": "2025-06-25T18:04:35.712514Z",
     "start_time": "2025-06-25T18:04:35.701525Z"
    }
   },
   "cell_type": "code",
   "source": [
    "class Attention(nn.Module):\n",
    "    def __init__(self, d_model=2):\n",
    "        super().__init__()\n",
    "        self.W_q = nn.Linear(d_model, d_model, bias=False)\n",
    "        self.W_k = nn.Linear(d_model, d_model, bias=False)\n",
    "        self.W_v = nn.Linear(d_model, d_model, bias=False)\n",
    "        self.row_dim = 0\n",
    "        self.col_dim = 1\n",
    "\n",
    "    def forward(self, q_input, k_input, v_input, mask=None):\n",
    "        q = self.W_q(q_input)\n",
    "        k = self.W_k(k_input)\n",
    "        v = self.W_v(v_input)\n",
    "        sims = torch.matmul(q, k.transpose(self.row_dim, self.col_dim))\n",
    "        scaled_sims = sims / torch.tensor(k.size(self.col_dim) ** 0.5)\n",
    "        if mask is not None:\n",
    "            scaled_sims = scaled_sims.masked_fill(mask, -1e9)\n",
    "        attention_percents = F.softmax(scaled_sims, dim=self.col_dim)\n",
    "        attention_scores = torch.matmul(attention_percents, v)\n",
    "        return attention_scores\n"
   ],
   "id": "409cb53f0ef4681a",
   "outputs": [],
   "execution_count": 7
  },
  {
   "metadata": {
    "ExecuteTime": {
     "end_time": "2025-06-25T18:04:52.182707Z",
     "start_time": "2025-06-25T18:04:52.176406Z"
    }
   },
   "cell_type": "code",
   "source": [
    "class DecoderOnlyTransformer(L.LightningModule):\n",
    "    def __init__(self, num_tokens, d_model=2, max_len=10):\n",
    "        super().__init__()\n",
    "        L.seed_everything(42)\n",
    "        self.we = nn.Embedding(num_tokens, d_model)\n",
    "        self.pe = PositionEncoding(d_model=d_model, max_len=max_len)\n",
    "        self.self_attention = Attention(d_model=d_model)\n",
    "        self.fc_layer = nn.Linear(d_model, num_tokens)\n",
    "        self.loss = nn.CrossEntropyLoss()\n",
    "\n",
    "    def forward(self, token_ids):\n",
    "        word_embeddings = self.we(token_ids)\n",
    "        position_encoded = self.pe(word_embeddings)\n",
    "        mask = torch.tril(torch.ones((token_ids.size(0), token_ids.size(0)), device=self.device)) == 0\n",
    "        attention_output = self.self_attention(position_encoded, position_encoded, position_encoded, mask)\n",
    "        residual = position_encoded + attention_output\n",
    "        output = self.fc_layer(residual)\n",
    "        return output\n",
    "\n",
    "    def configure_optimizers(self):\n",
    "        return Adam(self.parameters(), lr=0.1)\n",
    "\n",
    "    def training_step(self, batch, batch_idx):\n",
    "        input_tokens, labels = batch\n",
    "        output = self.forward(input_tokens[0])\n",
    "        loss = self.loss(output, labels[0])\n",
    "        return loss\n"
   ],
   "id": "4399e6b2bf35ceac",
   "outputs": [],
   "execution_count": 8
  },
  {
   "metadata": {},
   "cell_type": "code",
   "source": [
    "model = DecoderOnlyTransformer(num_tokens=len(token_to_id), d_model=2, max_len=10)\n",
    "trainer = L.Trainer(max_epochs=30, logger=False, enable_checkpointing=False)\n",
    "trainer.fit(model, train_dataloaders=dataloader)\n"
   ],
   "id": "5ad7606f1638cdf4",
   "outputs": [],
   "execution_count": null
  },
  {
   "metadata": {
    "ExecuteTime": {
     "end_time": "2025-06-25T18:23:49.776518Z",
     "start_time": "2025-06-25T18:23:49.766555Z"
    }
   },
   "cell_type": "code",
   "source": [
    "# You can try any of the 4 inputs here:\n",
    "model_input = torch.tensor([token_to_id[\"i\"], token_to_id[\"live\"], token_to_id[\"in\"], token_to_id[\"delhi\"], token_to_id[\"<EOS>\"]])\n",
    "\n",
    "predictions = model(model_input)\n",
    "predicted_id = torch.tensor([torch.argmax(predictions[-1])])\n",
    "predicted_ids = predicted_id\n",
    "\n",
    "for _ in range(len(model_input), 10):\n",
    "    if predicted_id == token_to_id[\"<EOS>\"]:\n",
    "        break\n",
    "    model_input = torch.cat((model_input, predicted_id))\n",
    "    predictions = model(model_input)\n",
    "    predicted_id = torch.tensor([torch.argmax(predictions[-1])])\n",
    "    predicted_ids = torch.cat((predicted_ids, predicted_id))\n",
    "\n",
    "print(\"Predicted Tokens:\\n\")\n",
    "for id in predicted_ids:\n",
    "    print(\"\\t\", id_to_token[id.item()])\n"
   ],
   "id": "299047c71defa5e7",
   "outputs": [
    {
     "name": "stdout",
     "output_type": "stream",
     "text": [
      "Predicted Tokens:\n",
      "\n",
      "\t cool\n",
      "\t <EOS>\n"
     ]
    }
   ],
   "execution_count": 11
  },
  {
   "metadata": {},
   "cell_type": "code",
   "outputs": [],
   "execution_count": null,
   "source": "",
   "id": "b5268d42444f811c"
  }
 ],
 "metadata": {
  "kernelspec": {
   "display_name": "Python 3",
   "language": "python",
   "name": "python3"
  },
  "language_info": {
   "codemirror_mode": {
    "name": "ipython",
    "version": 2
   },
   "file_extension": ".py",
   "mimetype": "text/x-python",
   "name": "python",
   "nbconvert_exporter": "python",
   "pygments_lexer": "ipython2",
   "version": "2.7.6"
  }
 },
 "nbformat": 4,
 "nbformat_minor": 5
}
